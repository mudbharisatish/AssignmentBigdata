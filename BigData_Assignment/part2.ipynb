{
 "cells": [
  {
   "cell_type": "code",
   "execution_count": 3,
   "id": "016b52a8-bbf6-4fc6-864b-ff90618070af",
   "metadata": {
    "tags": []
   },
   "outputs": [],
   "source": [
    "from pyspark.sql import SparkSession"
   ]
  },
  {
   "cell_type": "code",
   "execution_count": 5,
   "id": "8850b44b-2bce-43a9-9bcc-96ced54248a5",
   "metadata": {
    "tags": []
   },
   "outputs": [
    {
     "name": "stderr",
     "output_type": "stream",
     "text": [
      "24/05/17 19:56:29 WARN Utils: Your hostname, Roshans-MacBook-Pro.local resolves to a loopback address: 127.0.0.1; using 192.168.0.30 instead (on interface en0)\n",
      "24/05/17 19:56:29 WARN Utils: Set SPARK_LOCAL_IP if you need to bind to another address\n",
      "Setting default log level to \"WARN\".\n",
      "To adjust logging level use sc.setLogLevel(newLevel). For SparkR, use setLogLevel(newLevel).\n",
      "24/05/17 19:56:29 WARN NativeCodeLoader: Unable to load native-hadoop library for your platform... using builtin-java classes where applicable\n",
      "24/05/17 19:56:30 WARN Utils: Service 'SparkUI' could not bind on port 4040. Attempting port 4041.\n"
     ]
    }
   ],
   "source": [
    "spark=SparkSession.builder.appName('AssignmentPart2').getOrCreate()"
   ]
  },
  {
   "cell_type": "code",
   "execution_count": 6,
   "id": "012aa21a-f19c-4fd2-aa44-a10c340a0131",
   "metadata": {
    "tags": []
   },
   "outputs": [],
   "source": [
    "# To read csv file / Create dataFrame using dataset2.csv\n",
    "\n",
    "data = spark.read.csv('dataset2.csv',header=True,inferSchema=True)"
   ]
  },
  {
   "cell_type": "code",
   "execution_count": 7,
   "id": "b9c1a55c-edd3-4915-95aa-8e8d18c20d7b",
   "metadata": {
    "tags": []
   },
   "outputs": [
    {
     "name": "stdout",
     "output_type": "stream",
     "text": [
      "root\n",
      " |-- X1: integer (nullable = true)\n",
      " |-- X2: double (nullable = true)\n",
      " |-- X3: double (nullable = true)\n",
      " |-- X4: double (nullable = true)\n",
      " |-- X5: double (nullable = true)\n",
      " |-- X6: integer (nullable = true)\n",
      " |-- X7: double (nullable = true)\n",
      " |-- X8: double (nullable = true)\n",
      " |-- X9: double (nullable = true)\n",
      " |-- X10: string (nullable = true)\n",
      "\n"
     ]
    }
   ],
   "source": [
    "data.printSchema();"
   ]
  },
  {
   "cell_type": "code",
   "execution_count": 8,
   "id": "1c6849bb-4ba3-4b06-81ee-459f4dc58f68",
   "metadata": {
    "tags": []
   },
   "outputs": [
    {
     "name": "stdout",
     "output_type": "stream",
     "text": [
      "+---------+----+----+-------------------+------------------+-----+--------+----+-----+--------------------+\n",
      "|       X1|  X2|  X3|                 X4|                X5|   X6|      X7|  X8|   X9|                 X10|\n",
      "+---------+----+----+-------------------+------------------+-----+--------+----+-----+--------------------+\n",
      "| 34811059|2.73| 0.1|  3.328944661018629|           24.5962|12314|129.9049|75.3| 29.5|Middle East & Nor...|\n",
      "| 19842251|6.43| 2.0| 1.4743533878509398|          22.25083| 7103|130.1247|58.3|192.0|  Sub-Saharan Africa|\n",
      "| 40381860|2.24| 0.5|        4.785169983|           27.5017|14646|118.8915|75.5| 15.4|             America|\n",
      "|  2975029| 1.4| 0.1|        1.804106217|          25.35542| 7383|132.8108|72.5| 20.0|Europe & Central ...|\n",
      "| 21370348|1.96| 0.1|        18.01631327|          27.56373|41312|117.3755|81.5|  5.2| East Asia & Pacific|\n",
      "|  8331465|1.41| 0.3|        8.183160018|          26.46741|43952|124.1394|80.4|  4.6|Europe & Central ...|\n",
      "|  8868713|1.99| 0.1|        5.109538292|          25.65117|14365|128.6024|70.6| 43.3|Europe & Central ...|\n",
      "|   348587|1.89| 3.1|        3.131921321|          27.24594|24373|124.3862|72.2| 14.5|             America|\n",
      "|148252473|2.38|0.06|0.31916100201885805|          20.39742| 2265|125.0307|68.4| 55.9|          South Asia|\n",
      "|   277315|1.83| 1.3|        6.008278835|26.384390000000003|16075| 126.394|75.3| 15.4|             America|\n",
      "|  9526453|1.42| 0.2|         6.48817388|          26.16443|14488|129.7968|70.1|  7.2|Europe & Central ...|\n",
      "| 10779155|1.82| 0.2|        9.797336714|          26.75915|41641|121.8227|79.4|  4.7|Europe & Central ...|\n",
      "|   306165|2.91| 2.4| 1.3601259202571898|          27.02255| 8293|120.9224|70.7| 20.1|             America|\n",
      "|  8973525|5.27| 1.2| 0.5375391835148801|          22.41835| 1646|130.2723|63.2|116.3|  Sub-Saharan Africa|\n",
      "|   694990|2.51| 0.2|         0.60121031|           22.8218| 5663|125.1258|67.6| 48.1|          South Asia|\n",
      "|  9599916|3.48| 0.2|         1.43182915|          24.43335| 5066|122.4155|70.9| 52.0|             America|\n",
      "|  1967866|2.86|24.9| 2.5472054915144904|          22.12984|13858|133.1307|61.2| 63.8|  Sub-Saharan Africa|\n",
      "|194769696| 1.9|0.45|        2.023772836|          25.78623|13906|124.8745|73.9| 18.6|             America|\n",
      "|  7513646|1.43| 0.1|        6.690139082|          26.54286|15368|128.4721|73.2| 13.7|Europe & Central ...|\n",
      "| 14709011|6.04| 1.2|        0.109419171|          21.27157| 1358|130.6651|59.4|130.4|  Sub-Saharan Africa|\n",
      "+---------+----+----+-------------------+------------------+-----+--------+----+-----+--------------------+\n",
      "only showing top 20 rows\n",
      "\n"
     ]
    }
   ],
   "source": [
    "data.show()"
   ]
  },
  {
   "cell_type": "code",
   "execution_count": 10,
   "id": "e7862de0-80e5-430f-a163-1a92f8d02c75",
   "metadata": {
    "tags": []
   },
   "outputs": [],
   "source": [
    "# Removing column X10\n",
    "total_data = data.drop('X10')"
   ]
  },
  {
   "cell_type": "code",
   "execution_count": 11,
   "id": "9072e138-b909-4043-af23-9235e5874d0f",
   "metadata": {
    "tags": []
   },
   "outputs": [
    {
     "name": "stdout",
     "output_type": "stream",
     "text": [
      "+---------+----+----+-------------------+------------------+-----+--------+----+-----+\n",
      "|       X1|  X2|  X3|                 X4|                X5|   X6|      X7|  X8|   X9|\n",
      "+---------+----+----+-------------------+------------------+-----+--------+----+-----+\n",
      "| 34811059|2.73| 0.1|  3.328944661018629|           24.5962|12314|129.9049|75.3| 29.5|\n",
      "| 19842251|6.43| 2.0| 1.4743533878509398|          22.25083| 7103|130.1247|58.3|192.0|\n",
      "| 40381860|2.24| 0.5|        4.785169983|           27.5017|14646|118.8915|75.5| 15.4|\n",
      "|  2975029| 1.4| 0.1|        1.804106217|          25.35542| 7383|132.8108|72.5| 20.0|\n",
      "| 21370348|1.96| 0.1|        18.01631327|          27.56373|41312|117.3755|81.5|  5.2|\n",
      "|  8331465|1.41| 0.3|        8.183160018|          26.46741|43952|124.1394|80.4|  4.6|\n",
      "|  8868713|1.99| 0.1|        5.109538292|          25.65117|14365|128.6024|70.6| 43.3|\n",
      "|   348587|1.89| 3.1|        3.131921321|          27.24594|24373|124.3862|72.2| 14.5|\n",
      "|148252473|2.38|0.06|0.31916100201885805|          20.39742| 2265|125.0307|68.4| 55.9|\n",
      "|   277315|1.83| 1.3|        6.008278835|26.384390000000003|16075| 126.394|75.3| 15.4|\n",
      "|  9526453|1.42| 0.2|         6.48817388|          26.16443|14488|129.7968|70.1|  7.2|\n",
      "| 10779155|1.82| 0.2|        9.797336714|          26.75915|41641|121.8227|79.4|  4.7|\n",
      "|   306165|2.91| 2.4| 1.3601259202571898|          27.02255| 8293|120.9224|70.7| 20.1|\n",
      "|  8973525|5.27| 1.2| 0.5375391835148801|          22.41835| 1646|130.2723|63.2|116.3|\n",
      "|   694990|2.51| 0.2|         0.60121031|           22.8218| 5663|125.1258|67.6| 48.1|\n",
      "|  9599916|3.48| 0.2|         1.43182915|          24.43335| 5066|122.4155|70.9| 52.0|\n",
      "|  1967866|2.86|24.9| 2.5472054915144904|          22.12984|13858|133.1307|61.2| 63.8|\n",
      "|194769696| 1.9|0.45|        2.023772836|          25.78623|13906|124.8745|73.9| 18.6|\n",
      "|  7513646|1.43| 0.1|        6.690139082|          26.54286|15368|128.4721|73.2| 13.7|\n",
      "| 14709011|6.04| 1.2|        0.109419171|          21.27157| 1358|130.6651|59.4|130.4|\n",
      "+---------+----+----+-------------------+------------------+-----+--------+----+-----+\n",
      "only showing top 20 rows\n",
      "\n"
     ]
    }
   ],
   "source": [
    "total_data.show()"
   ]
  },
  {
   "cell_type": "code",
   "execution_count": 16,
   "id": "80d4a750-d3cb-4330-ba54-aa7d04efa509",
   "metadata": {
    "tags": []
   },
   "outputs": [],
   "source": [
    "# Graph"
   ]
  },
  {
   "cell_type": "code",
   "execution_count": 19,
   "id": "bac0dc11-1354-4e3b-b87c-a7ab7db12c48",
   "metadata": {
    "tags": []
   },
   "outputs": [],
   "source": [
    "import matplotlib.pyplot as plt\n",
    "from pyspark.sql.functions import col"
   ]
  },
  {
   "cell_type": "code",
   "execution_count": 21,
   "id": "5a568094-9052-4673-bbab-ed62031e7991",
   "metadata": {
    "tags": []
   },
   "outputs": [],
   "source": [
    "#Select the X2 and X8 columns from the Dataframe\n",
    "X2_X8_data = total_data.select('X2','X8')\n",
    "\n",
    "#Convert the Dataframe to an RDD of tuples and extract X2 and X8 values\n",
    "rdd_X2_X8 = X2_X8_data.rdd.map(lambda x:(x['X2'],x['X8']))\n",
    "X2_values = rdd_X2_X8.map(lambda x: x[0]).collect()\n",
    "X8_values = rdd_X2_X8.map(lambda x:x[1]).collect()"
   ]
  },
  {
   "cell_type": "code",
   "execution_count": 23,
   "id": "7e97edc4-0699-49bb-bd42-4e8e28af1c77",
   "metadata": {
    "tags": []
   },
   "outputs": [
    {
     "data": {
      "image/png": "[encoded data removed]",
      "text/plain": [
       "<Figure size 1000x600 with 1 Axes>"
      ]
     },
     "metadata": {},
     "output_type": "display_data"
    }
   ],
   "source": [
    "# Plot the scatter plot\n",
    "plt.figure(figsize=(10,6))\n",
    "plt.scatter(X2_values,X8_values, color='red',alpha = 0.5)\n",
    "plt.title('Relationship between X2 and X8')\n",
    "plt.xlabel('X2')\n",
    "plt.ylabel('X8')\n",
    "plt.grid(True)\n",
    "plt.show()"
   ]
  },
  {
   "cell_type": "code",
   "execution_count": 25,
   "id": "05378866-f9ad-4cfb-b381-1f0743d47c05",
   "metadata": {
    "tags": []
   },
   "outputs": [
    {
     "name": "stdout",
     "output_type": "stream",
     "text": [
      "+----+----+\n",
      "|  X2|  X8|\n",
      "+----+----+\n",
      "|2.73|75.3|\n",
      "|2.24|75.5|\n",
      "| 1.4|72.5|\n",
      "|1.96|81.5|\n",
      "|1.41|80.4|\n",
      "|1.99|70.6|\n",
      "|1.89|72.2|\n",
      "|1.83|75.3|\n",
      "|1.42|70.1|\n",
      "|1.82|79.4|\n",
      "|2.91|70.7|\n",
      "|3.48|70.9|\n",
      "| 1.9|73.9|\n",
      "|1.43|73.2|\n",
      "|1.68|80.7|\n",
      "|1.89|78.9|\n",
      "|2.43|75.1|\n",
      "|1.91|79.7|\n",
      "|1.43|76.5|\n",
      "| 1.5|77.8|\n",
      "+----+----+\n",
      "only showing top 20 rows\n",
      "\n"
     ]
    }
   ],
   "source": [
    "# Register the DataFrame as a temporary view\n",
    "total_data.createOrReplaceTempView('data')\n",
    "\n",
    "#Execute SQL query to filter X2 greater than 1.0 and X8 greater than 70\n",
    "result = spark.sql(\"Select X2,X8 FROM data where X2 > 1.0 AND X8 > 70 \")\n",
    "\n",
    "#Show Result\n",
    "result.show()"
   ]
  },
  {
   "cell_type": "code",
   "execution_count": 27,
   "id": "6a9ccc13-7d18-41f9-8273-23dee565f4ec",
   "metadata": {
    "tags": []
   },
   "outputs": [],
   "source": [
    "from pyspark.ml.feature import VectorAssembler\n",
    "from pyspark.ml.regression import LinearRegression\n",
    "from pyspark.ml.evaluation import RegressionEvaluator"
   ]
  },
  {
   "cell_type": "code",
   "execution_count": 29,
   "id": "d9a4e532-b882-4157-a293-e39647785fe1",
   "metadata": {
    "tags": []
   },
   "outputs": [],
   "source": [
    "# Prepare the data by selecting X2 and X8\n",
    "\n",
    "data = total_data.select('X2','X8')\n",
    "\n",
    "#Split the data into training and testing sets\n",
    "train,test = data.randomSplit([0.7,0.3])"
   ]
  },
  {
   "cell_type": "code",
   "execution_count": 31,
   "id": "d8d522a9-f8ca-48b9-a7cb-b0675ae0cf2f",
   "metadata": {
    "tags": []
   },
   "outputs": [],
   "source": [
    "# Defining the vector assembler\n",
    "assembler = VectorAssembler(inputCols=['X2'],outputCol='features')\n",
    "\n",
    "#Transform the data using the vector assembler\n",
    "train = assembler.transform(train)\n",
    "test = assembler.transform(test)"
   ]
  },
  {
   "cell_type": "code",
   "execution_count": 33,
   "id": "0d3a558e-d879-429d-9754-25df9a672090",
   "metadata": {
    "tags": []
   },
   "outputs": [],
   "source": [
    "# Define the linear regression model\n",
    "lr = LinearRegression(featuresCol='features', labelCol='X8')\n",
    "\n"
   ]
  },
  {
   "cell_type": "code",
   "execution_count": 35,
   "id": "2e299cbb-dfd1-4b8b-abd6-334e7dedce67",
   "metadata": {
    "tags": []
   },
   "outputs": [
    {
     "name": "stderr",
     "output_type": "stream",
     "text": [
      "24/05/17 19:56:44 WARN Instrumentation: [bf0bc850] regParam is zero, which might cause numerical instability and overfitting.\n",
      "24/05/17 19:56:44 WARN InstanceBuilder: Failed to load implementation from:dev.ludovic.netlib.blas.JNIBLAS\n",
      "24/05/17 19:56:44 WARN InstanceBuilder: Failed to load implementation from:dev.ludovic.netlib.lapack.JNILAPACK\n"
     ]
    }
   ],
   "source": [
    "# Train the model using the training data\n",
    "lr_model = lr.fit(train)\n",
    "\n",
    "#Make predictions on the testing data \n",
    "predictions = lr_model.transform(test)"
   ]
  },
  {
   "cell_type": "code",
   "execution_count": 37,
   "id": "19575201-4d7e-4ff7-84f6-e1fba320bbe1",
   "metadata": {
    "tags": []
   },
   "outputs": [
    {
     "name": "stdout",
     "output_type": "stream",
     "text": [
      "Linear Regression: 5.455230490103513\n"
     ]
    }
   ],
   "source": [
    "#Evaluate the model's performance \n",
    "evaluator = RegressionEvaluator(labelCol='X8',predictionCol=\"prediction\",metricName='rmse')\n",
    "rmse=evaluator.evaluate(predictions)\n",
    "\n",
    "#Print the linear Regression \n",
    "print('Linear Regression:',rmse)"
   ]
  },
  {
   "cell_type": "code",
   "execution_count": 39,
   "id": "6f242d44-be76-4ea3-ae96-7ec43067e28a",
   "metadata": {
    "tags": []
   },
   "outputs": [],
   "source": [
    "# Define the features excluding X8 and the target column\n",
    "feature_column = ['X1','X2','X3','X4','X5','X6','X7','X9']\n",
    "target_column = 'X8'\n",
    "\n",
    "#Define the predictor\n",
    "predictors = [col for col in feature_column if col != target_column]\n",
    "\n",
    "#Create a vector assembler to combine all the feature columns\n",
    "assembler = VectorAssembler(inputCols = feature_column,outputCol='features')"
   ]
  },
  {
   "cell_type": "code",
   "execution_count": 41,
   "id": "4b1756e0-cc28-43a3-9305-abadebffb8e3",
   "metadata": {
    "tags": []
   },
   "outputs": [],
   "source": [
    "#Define the vector assembler\n",
    "assembler = VectorAssembler(inputCols=predictors,outputCol='features')\n",
    "\n",
    "#Apply the vector assembler to the DataFrame\n",
    "assembled_data = assembler.transform(total_data)"
   ]
  },
  {
   "cell_type": "code",
   "execution_count": 43,
   "id": "47a18e07-c17f-4a80-8c56-090398b7c3ea",
   "metadata": {
    "tags": []
   },
   "outputs": [],
   "source": [
    "# Split the data into training and test sets\n",
    "train,test = assembled_data.randomSplit([0.7,0.3])\n",
    "\n",
    "#Check if X8 exists in the train dataframe\n",
    "if 'X8' not in train.columns:\n",
    "    raise ValueError(\"Column X8 does not exist in the train DataFrame.\")"
   ]
  },
  {
   "cell_type": "code",
   "execution_count": 45,
   "id": "06577354-67a9-424e-a6d4-4d1399466e11",
   "metadata": {
    "tags": []
   },
   "outputs": [],
   "source": [
    "# Check if 'X8' exists in the test DataFrame\n",
    "if 'X8' not in test.columns:\n",
    "    raise ValueError(\"Column 'X8' does not exist in the test DataFrame.\")\n",
    "    \n",
    "    \n",
    "# Define the Lasso regression model\n",
    "lasso = LinearRegression(featuresCol='features', labelCol=target_column, elasticNetParam=1.0, regParam=0.1)"
   ]
  },
  {
   "cell_type": "code",
   "execution_count": 47,
   "id": "52c29e54-e674-40f8-a531-ea7e5d273229",
   "metadata": {
    "tags": []
   },
   "outputs": [],
   "source": [
    "# Train the model using the training data\n",
    "lasso_model = lasso.fit(train)\n",
    "\n",
    "# Make predictions on the testing data\n",
    "predictions = lasso_model.transform(test)"
   ]
  },
  {
   "cell_type": "code",
   "execution_count": 48,
   "id": "e4e5492b-5249-49d7-ae27-3d508b69d07f",
   "metadata": {
    "tags": []
   },
   "outputs": [
    {
     "name": "stdout",
     "output_type": "stream",
     "text": [
      "Lasso Regression: 3.4021480352997266\n"
     ]
    }
   ],
   "source": [
    "# Evaluate the model's performance\n",
    "evaluator = RegressionEvaluator(labelCol=target_column, predictionCol='prediction', metricName='rmse')\n",
    "rmse = evaluator.evaluate(predictions)\n",
    "\n",
    "\n",
    "# Print the lasso regression (RMSE)\n",
    "print(\"Lasso Regression:\", rmse)"
   ]
  },
  {
   "cell_type": "code",
   "execution_count": null,
   "id": "8d47e7a1-87ec-482b-9075-cfd786be75e6",
   "metadata": {},
   "outputs": [],
   "source": []
  },
  {
   "cell_type": "code",
   "execution_count": null,
   "id": "9a929598-5264-401f-8121-40ce5f19626b",
   "metadata": {},
   "outputs": [],
   "source": []
  },
  {
   "cell_type": "code",
   "execution_count": null,
   "id": "f359597c-2750-4ed5-b920-ada9457f33ff",
   "metadata": {},
   "outputs": [],
   "source": []
  },
  {
   "cell_type": "code",
   "execution_count": null,
   "id": "5f7592b1-0e8f-491b-bffa-ff0be37bcbd5",
   "metadata": {},
   "outputs": [],
   "source": []
  }
 ],
 "metadata": {
  "kernelspec": {
   "display_name": "Python 3 (ipykernel)",
   "language": "python",
   "name": "python3"
  },
  "language_info": {
   "codemirror_mode": {
    "name": "ipython",
    "version": 3
   },
   "file_extension": ".py",
   "mimetype": "text/x-python",
   "name": "python",
   "nbconvert_exporter": "python",
   "pygments_lexer": "ipython3",
   "version": "3.11.7"
  }
 },
 "nbformat": 4,
 "nbformat_minor": 5
}
