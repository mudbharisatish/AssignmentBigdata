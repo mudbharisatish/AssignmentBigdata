{
 "cells": [
  {
   "cell_type": "code",
   "execution_count": 17,
   "id": "2c18c687-2f30-4fe0-9daa-8c63de491a0f",
   "metadata": {
    "tags": []
   },
   "outputs": [],
   "source": [
    "from pyspark.sql import SparkSession\n",
    "from pyspark.sql import functions as F\n",
    "import matplotlib.pyplot as plt\n",
    "import seaborn as sns"
   ]
  },
  {
   "cell_type": "code",
   "execution_count": 19,
   "id": "36ff7774-1701-482e-8d42-770bb312ded0",
   "metadata": {
    "tags": []
   },
   "outputs": [],
   "source": [
    "spark=SparkSession.builder.appName('Assignment').getOrCreate()"
   ]
  },
  {
   "cell_type": "code",
   "execution_count": 21,
   "id": "ebb9c90c-a4d8-47e8-a41b-e4051604ae11",
   "metadata": {
    "tags": []
   },
   "outputs": [],
   "source": [
    "# To read csv file / Create dataFrame using dataset1.csv\n",
    "\n",
    "data = spark.read.csv('dataset1.csv',header=True,inferSchema=True)\n"
   ]
  },
  {
   "cell_type": "code",
   "execution_count": 23,
   "id": "4181080b-0a70-4bed-9b61-3c617f768804",
   "metadata": {
    "tags": []
   },
   "outputs": [
    {
     "name": "stdout",
     "output_type": "stream",
     "text": [
      "root\n",
      " |-- X1: integer (nullable = true)\n",
      " |-- X2: double (nullable = true)\n",
      " |-- X3: string (nullable = true)\n",
      " |-- X4: integer (nullable = true)\n",
      " |-- X5: string (nullable = true)\n",
      " |-- X6: integer (nullable = true)\n",
      " |-- X7: integer (nullable = true)\n",
      " |-- X8: string (nullable = true)\n",
      " |-- X9: double (nullable = true)\n",
      " |-- Y1: integer (nullable = true)\n",
      "\n"
     ]
    }
   ],
   "source": [
    "data.printSchema();"
   ]
  },
  {
   "cell_type": "code",
   "execution_count": 25,
   "id": "e758d10f-c811-448c-acce-b68f03f348c9",
   "metadata": {
    "tags": []
   },
   "outputs": [
    {
     "name": "stdout",
     "output_type": "stream",
     "text": [
      "+---+------+----+---+---+---+---+---+----+---+\n",
      "| X1|    X2|  X3| X4| X5| X6| X7| X8|  X9| Y1|\n",
      "+---+------+----+---+---+---+---+---+----+---+\n",
      "| 59|28.378|0.34|204|196|132| 49| 92| 7.7|  1|\n",
      "| 59|24.968|   1|147|181|129| 34| 96|4.09|  1|\n",
      "| 48|31.307|0.62|155|185|127| 41|139| 4.5|  1|\n",
      "| 47|27.837|0.38|488|254|158| 55|250| 5.3|  2|\n",
      "| 55|22.662|0.49| 87|175|120| 44| 99| 6.9|  1|\n",
      "| 68|23.985| 1.2| 96|193|135| 48|125| 7.9|  2|\n",
      "| 58|22.096|0.09| 70|200|133| 60|154| 7.0|  2|\n",
      "| 48|28.577|0.12|139|151| 95| 37|102| 5.6|  1|\n",
      "| 63|25.034|    |243|195|129| 45| 91| 6.9|  1|\n",
      "| 53|27.253| 1.3| 93|151| 91| 55|100|9.19|  2|\n",
      "| 57|30.538| 5.1|194|250|178| 51| 93|13.5|  2|\n",
      "| 65|24.309| 1.6| 74|173|121| 43|114| 6.4|  2|\n",
      "| 68|22.888|0.77| 87|196|129| 55|144| 9.8|  2|\n",
      "| 68|  28.3|0.97|152|180|125| 37| 88| 4.3|  2|\n",
      "| 64|25.852| 2.3| 93|187|136| 40| 99|8.69|  2|\n",
      "| 67|20.716| 0.5|112|219|137| 69| 98| 8.5|  1|\n",
      "| 61|24.204| 1.5|140|208|149| 38|136|11.5|  1|\n",
      "| 51|25.829| 2.6| 79|248|185| 44|105| 7.8|  1|\n",
      "| 33|24.843| 1.2|149|191|132| 41| 87|14.1|  1|\n",
      "| 46|25.501| 1.1|109|200|129| 55| 97|9.69|  1|\n",
      "+---+------+----+---+---+---+---+---+----+---+\n",
      "only showing top 20 rows\n",
      "\n"
     ]
    }
   ],
   "source": [
    "data.show()"
   ]
  },
  {
   "cell_type": "code",
   "execution_count": 27,
   "id": "5b8786ce-f8b3-4df7-87a5-729eaeb837d0",
   "metadata": {
    "tags": []
   },
   "outputs": [
    {
     "data": {
      "text/plain": [
       "6967"
      ]
     },
     "execution_count": 27,
     "metadata": {},
     "output_type": "execute_result"
    }
   ],
   "source": [
    "data.count()"
   ]
  },
  {
   "cell_type": "code",
   "execution_count": 29,
   "id": "7d89daeb-e95a-4df6-bdf4-2972ad8f823a",
   "metadata": {
    "tags": []
   },
   "outputs": [],
   "source": [
    "data= data.na.replace([\" \"], [None])"
   ]
  },
  {
   "cell_type": "code",
   "execution_count": 31,
   "id": "00acdec0-8351-4d51-975c-1fbd6db948d4",
   "metadata": {
    "tags": []
   },
   "outputs": [
    {
     "name": "stdout",
     "output_type": "stream",
     "text": [
      "+---+------+----+---+---+---+---+---+----+---+\n",
      "| X1|    X2|  X3| X4| X5| X6| X7| X8|  X9| Y1|\n",
      "+---+------+----+---+---+---+---+---+----+---+\n",
      "| 59|28.378|0.34|204|196|132| 49| 92| 7.7|  1|\n",
      "| 59|24.968|   1|147|181|129| 34| 96|4.09|  1|\n",
      "| 48|31.307|0.62|155|185|127| 41|139| 4.5|  1|\n",
      "| 47|27.837|0.38|488|254|158| 55|250| 5.3|  2|\n",
      "| 55|22.662|0.49| 87|175|120| 44| 99| 6.9|  1|\n",
      "| 68|23.985| 1.2| 96|193|135| 48|125| 7.9|  2|\n",
      "| 58|22.096|0.09| 70|200|133| 60|154| 7.0|  2|\n",
      "| 48|28.577|0.12|139|151| 95| 37|102| 5.6|  1|\n",
      "| 63|25.034|null|243|195|129| 45| 91| 6.9|  1|\n",
      "| 53|27.253| 1.3| 93|151| 91| 55|100|9.19|  2|\n",
      "| 57|30.538| 5.1|194|250|178| 51| 93|13.5|  2|\n",
      "| 65|24.309| 1.6| 74|173|121| 43|114| 6.4|  2|\n",
      "| 68|22.888|0.77| 87|196|129| 55|144| 9.8|  2|\n",
      "| 68|  28.3|0.97|152|180|125| 37| 88| 4.3|  2|\n",
      "| 64|25.852| 2.3| 93|187|136| 40| 99|8.69|  2|\n",
      "| 67|20.716| 0.5|112|219|137| 69| 98| 8.5|  1|\n",
      "| 61|24.204| 1.5|140|208|149| 38|136|11.5|  1|\n",
      "| 51|25.829| 2.6| 79|248|185| 44|105| 7.8|  1|\n",
      "| 33|24.843| 1.2|149|191|132| 41| 87|14.1|  1|\n",
      "| 46|25.501| 1.1|109|200|129| 55| 97|9.69|  1|\n",
      "+---+------+----+---+---+---+---+---+----+---+\n",
      "only showing top 20 rows\n",
      "\n"
     ]
    }
   ],
   "source": [
    "data.show()\n"
   ]
  },
  {
   "cell_type": "code",
   "execution_count": 33,
   "id": "a5c4ee99-f0a1-44c6-98d7-8e2dbd485dbf",
   "metadata": {
    "tags": []
   },
   "outputs": [],
   "source": [
    "total_row=data.na.drop()"
   ]
  },
  {
   "cell_type": "code",
   "execution_count": 35,
   "id": "c2f7789e-fa91-4aa7-9036-e4ebffbee0b8",
   "metadata": {
    "tags": []
   },
   "outputs": [
    {
     "name": "stdout",
     "output_type": "stream",
     "text": [
      "Number of rows removed:58\n"
     ]
    }
   ],
   "source": [
    "total_row_before_removed = data.count()\n",
    "removed_row_count= total_row.count()\n",
    "total_rows_removed =total_row_before_removed - removed_row_count\n",
    "print(f\"Number of rows removed:{total_rows_removed}\")"
   ]
  },
  {
   "cell_type": "code",
   "execution_count": 37,
   "id": "b539c7e9-4ba6-4b71-be5e-bb85c6df462b",
   "metadata": {
    "tags": []
   },
   "outputs": [],
   "source": [
    "summary_stats = total_row.describe(\"X1\")"
   ]
  },
  {
   "cell_type": "code",
   "execution_count": 39,
   "id": "5034da71-82b0-4d81-a09b-47feea4301d5",
   "metadata": {
    "tags": []
   },
   "outputs": [
    {
     "name": "stdout",
     "output_type": "stream",
     "text": [
      "+-------+------------------+\n",
      "|summary|                X1|\n",
      "+-------+------------------+\n",
      "|  count|              6909|\n",
      "|   mean|53.340715009408015|\n",
      "| stddev| 8.712714893790364|\n",
      "|    min|                21|\n",
      "|    max|                90|\n",
      "+-------+------------------+\n",
      "\n"
     ]
    }
   ],
   "source": [
    "summary_stats.show()"
   ]
  },
  {
   "cell_type": "code",
   "execution_count": 97,
   "id": "ed639371-01dc-492a-b062-d8fefccacb02",
   "metadata": {
    "tags": []
   },
   "outputs": [
    {
     "name": "stdout",
     "output_type": "stream",
     "text": [
      "variance: 75.91140082047643\n",
      "median: 53\n"
     ]
    }
   ],
   "source": [
    "#Calculate the variance \n",
    "variance = total_row.select(F.variance('X1')).collect()[0][0]\n",
    "median = total_row.select(F.expr(\"percentile_approx(X1,0.5)\")).collect()[0][0]\n",
    "print(f'variance:',variance)\n",
    "print(f'median:',median)\n",
    "\n",
    "#Select the X1 and convert it to a list\n",
    "data_X1 = total_row.select(\"X1\").rdd.flatMap(lambda x:x).collect()"
   ]
  },
  {
   "cell_type": "code",
   "execution_count": 43,
   "id": "924e0030-9388-4cf9-8058-7b16395e0d68",
   "metadata": {
    "tags": []
   },
   "outputs": [
    {
     "data": {
      "image/png": "[encoded data removed]",
      "text/plain": [
       "<Figure size 1000x800 with 1 Axes>"
      ]
     },
     "metadata": {},
     "output_type": "display_data"
    }
   ],
   "source": [
    "# Create the histogram for X1 data \n",
    "plt.figure(figsize =(10,8))\n",
    "plt.hist(data_X1,bins = 30, color='orange',edgecolor='black')\n",
    "plt.title('Histogram of X1 features')\n",
    "plt.xlabel('Values of X1')\n",
    "plt.ylabel('Frequency')\n",
    "plt.grid(False)\n",
    "plt.show()"
   ]
  },
  {
   "cell_type": "code",
   "execution_count": 45,
   "id": "9bb70f71-3d09-4076-858a-8478f0204ab4",
   "metadata": {
    "tags": []
   },
   "outputs": [],
   "source": [
    "# Calculate the quartiles \n",
    "quartiles = total_row.approxQuantile(\"X2\",[0.25,0.5,0.75],0.0)\n",
    "q1,median,q3 = quartiles"
   ]
  },
  {
   "cell_type": "code",
   "execution_count": 47,
   "id": "1f43f347-f649-445e-8b45-b0e185d5b902",
   "metadata": {},
   "outputs": [
    {
     "name": "stdout",
     "output_type": "stream",
     "text": [
      "First Quartile(Q1):22.975\n",
      "Median or Second Quartile (Q2) : 24.704\n",
      "Third Quartile (Q3):26.435\n"
     ]
    }
   ],
   "source": [
    "# Print the quartiles values\n",
    "\n",
    "print(f'First Quartile(Q1):{q1}')\n",
    "print(f'Median or Second Quartile (Q2) : {median}')\n",
    "print(f'Third Quartile (Q3):{q3}')"
   ]
  },
  {
   "cell_type": "code",
   "execution_count": 49,
   "id": "c8bf0201-3549-4759-999d-ae5b19cbf3c2",
   "metadata": {
    "tags": []
   },
   "outputs": [
    {
     "data": {
      "image/png": "[encoded data removed]",
      "text/plain": [
       "<Figure size 1000x800 with 1 Axes>"
      ]
     },
     "metadata": {},
     "output_type": "display_data"
    }
   ],
   "source": [
    "# Generate boxplot\n",
    "data_X2 = total_row.select('X2').rdd.flatMap(lambda row:row).collect()\n",
    "plt.figure(figsize=(10,8))\n",
    "sns.boxplot(x=data_X2)\n",
    "plt.title('Boxplot of X2 feature')\n",
    "plt.xlabel('X2')\n",
    "plt.ylabel('Frequency')\n",
    "plt.grid(True)\n",
    "plt.show()"
   ]
  },
  {
   "cell_type": "code",
   "execution_count": 51,
   "id": "e15ec8de-cd70-40ff-bbcc-0fd06cc4f2c6",
   "metadata": {
    "tags": []
   },
   "outputs": [],
   "source": [
    "# Use a filter and count methods\n",
    "count = total_row.filter((total_row['X1'] > 50 )& (total_row['Y1'] == 1 )).count()"
   ]
  },
  {
   "cell_type": "code",
   "execution_count": 53,
   "id": "5420a388-f6b8-4b95-ac7d-9c9ec0ade1e8",
   "metadata": {
    "tags": []
   },
   "outputs": [
    {
     "name": "stdout",
     "output_type": "stream",
     "text": [
      "Number of rows where X1 id greater than 50 and Y1 is equals to 1 : 2166\n"
     ]
    }
   ],
   "source": [
    "# Display the count\n",
    "print('Number of rows where X1 id greater than 50 and Y1 is equals to 1 :',count)"
   ]
  },
  {
   "cell_type": "code",
   "execution_count": null,
   "id": "60f2156e-4e7a-4bf8-a520-9b887582f9a2",
   "metadata": {
    "tags": []
   },
   "outputs": [],
   "source": []
  },
  {
   "cell_type": "code",
   "execution_count": 56,
   "id": "de7cdbca-fac7-417e-aa1e-6194a5fe6c4c",
   "metadata": {},
   "outputs": [],
   "source": [
    "from pyspark.ml.feature import StringIndexer, VectorAssembler\n",
    "from pyspark.ml.classification import LogisticRegression, RandomForestClassifier\n",
    "from pyspark.ml.evaluation import BinaryClassificationEvaluator, MulticlassClassificationEvaluator\n",
    "from pyspark.sql.functions import col"
   ]
  },
  {
   "cell_type": "code",
   "execution_count": 58,
   "id": "98451128-d0a4-405d-8970-09dedb17e82f",
   "metadata": {},
   "outputs": [],
   "source": [
    "# Convert string columns to numerical columns using StringIndexer\n",
    "indexers = [StringIndexer(inputCol=c, outputCol=f'{c}_index').fit(total_row) for c in ['X3', 'X5', 'X8']]\n",
    "indexed_df = total_row\n",
    "for indexer in indexers:\n",
    "    indexed_df = indexer.transform(indexed_df)"
   ]
  },
  {
   "cell_type": "code",
   "execution_count": 60,
   "id": "da944ce8-b9ee-48f8-9fa8-b8fd234c6582",
   "metadata": {},
   "outputs": [],
   "source": [
    "# Select the indexed columns and the label column\n",
    "indexed_cols = ['Y1'] + [indexer.getOutputCol() for indexer in indexers]\n",
    "indexed_df = indexed_df.select(indexed_cols)"
   ]
  },
  {
   "cell_type": "code",
   "execution_count": 62,
   "id": "efe824fe-6912-4497-9a80-844020803c37",
   "metadata": {},
   "outputs": [],
   "source": [
    "# Create a vector assembler to combine all other columns as predictors\n",
    "assembler = VectorAssembler(inputCols=[x for x in indexed_cols if x != 'Y1'], outputCol='features')"
   ]
  },
  {
   "cell_type": "code",
   "execution_count": 64,
   "id": "335e098e-3851-46a4-a71b-1312d6526e03",
   "metadata": {},
   "outputs": [],
   "source": [
    "# Apply the vector assembler to the DataFrame\n",
    "assembled_df = assembler.transform(indexed_df)\n",
    "\n",
    "# Split the data into training and test sets\n",
    "train, test = assembled_df.randomSplit([0.7, 0.3])"
   ]
  },
  {
   "cell_type": "code",
   "execution_count": 66,
   "id": "2ff298cf-c107-4cd8-9661-e0b18aff2723",
   "metadata": {},
   "outputs": [],
   "source": [
    "# Create a logistic regression model\n",
    "lr = LogisticRegression(featuresCol='features', labelCol='Y1')"
   ]
  },
  {
   "cell_type": "code",
   "execution_count": 68,
   "id": "ebcfa9ab-8e55-4211-94f1-4bf2d122ca94",
   "metadata": {},
   "outputs": [],
   "source": [
    "# Create a random forest classifier model\n",
    "rf = RandomForestClassifier(featuresCol='features', labelCol='Y1',maxBins=300)"
   ]
  },
  {
   "cell_type": "code",
   "execution_count": 70,
   "id": "00c06c61-c779-4353-97f1-54b747aada21",
   "metadata": {},
   "outputs": [
    {
     "name": "stderr",
     "output_type": "stream",
     "text": [
      "24/05/17 18:21:03 WARN InstanceBuilder: Failed to load implementation from:dev.ludovic.netlib.blas.JNIBLAS\n"
     ]
    }
   ],
   "source": [
    "# Fit the models to the training data\n",
    "lrModel = lr.fit(train)\n",
    "rfModel = rf.fit(train)"
   ]
  },
  {
   "cell_type": "code",
   "execution_count": 71,
   "id": "78b1e656-ef1e-450b-a5ae-70f514d92987",
   "metadata": {
    "tags": []
   },
   "outputs": [],
   "source": [
    "# Make predictions on the test data\n",
    "lrPredictions = lrModel.transform(test)\n",
    "rfPredictions = rfModel.transform(test)"
   ]
  },
  {
   "cell_type": "code",
   "execution_count": 72,
   "id": "44458b0e-6d33-478d-986b-416394b933a6",
   "metadata": {
    "tags": []
   },
   "outputs": [],
   "source": [
    "# Create the evaluator for AUC\n",
    "evaluator = BinaryClassificationEvaluator(labelCol=\"Y1\", rawPredictionCol=\"prediction\")\n",
    "\n",
    "# Evaluate logistic regression model AUC\n",
    "lrAUC = evaluator.evaluate(lrPredictions)"
   ]
  },
  {
   "cell_type": "code",
   "execution_count": 73,
   "id": "21261a71-1837-4dad-a59f-11665d02b173",
   "metadata": {
    "tags": []
   },
   "outputs": [],
   "source": [
    "# Evaluate random forest model AUC\n",
    "rfAUC = evaluator.evaluate(rfPredictions)"
   ]
  },
  {
   "cell_type": "code",
   "execution_count": 74,
   "id": "3165a4d2-6bad-4954-a9eb-c2836a9b8dab",
   "metadata": {
    "tags": []
   },
   "outputs": [],
   "source": [
    "# Calculate true positives, false positives, and precision for logistic regression\n",
    "tp_lr = lrPredictions.filter((col('Y1') == 1) & (col('prediction') == 1)).count()\n",
    "fp_lr = lrPredictions.filter((col('Y1') == 0) & (col('prediction') == 1)).count()\n",
    "lrPrecision = tp_lr / (tp_lr + fp_lr)\n"
   ]
  },
  {
   "cell_type": "code",
   "execution_count": 75,
   "id": "0b856107-9901-40b5-9ad3-1d6023da0863",
   "metadata": {
    "tags": []
   },
   "outputs": [],
   "source": [
    "# Calculate true positives, false positives, and precision for random forest\n",
    "tp_rf = rfPredictions.filter((col('Y1') == 1) & (col('prediction') == 1)).count()\n",
    "fp_rf = rfPredictions.filter((col('Y1') == 0) & (col('prediction') == 1)).count()\n",
    "rfPrecision = tp_rf / (tp_rf + fp_rf)"
   ]
  },
  {
   "cell_type": "code",
   "execution_count": 76,
   "id": "bfbc2454-6f61-49ab-9daf-5ea3cf9a6438",
   "metadata": {
    "tags": []
   },
   "outputs": [
    {
     "name": "stdout",
     "output_type": "stream",
     "text": [
      "Logistic Regression AUC: 1.0\n",
      "Random Forest AUC: 1.0\n",
      "Logistic Regression Precision: 1.0\n",
      "Random Forest Precision: 1.0\n"
     ]
    }
   ],
   "source": [
    "# Print the evaluation metrics\n",
    "print(f'Logistic Regression AUC: {lrAUC}')\n",
    "print(f'Random Forest AUC: {rfAUC}')\n",
    "print(f'Logistic Regression Precision: {lrPrecision}')\n",
    "print(f'Random Forest Precision: {rfPrecision}')"
   ]
  },
  {
   "cell_type": "code",
   "execution_count": null,
   "id": "fc859083-0d7d-49b2-98ac-df05cd8cbd5d",
   "metadata": {},
   "outputs": [],
   "source": []
  },
  {
   "cell_type": "code",
   "execution_count": null,
   "id": "1423573c-3278-4403-850a-fc1106c47d4a",
   "metadata": {},
   "outputs": [],
   "source": []
  },
  {
   "cell_type": "code",
   "execution_count": null,
   "id": "3ac1a310-62af-4d50-9804-f993e1a07663",
   "metadata": {},
   "outputs": [],
   "source": []
  }
 ],
 "metadata": {
  "kernelspec": {
   "display_name": "Python 3 (ipykernel)",
   "language": "python",
   "name": "python3"
  },
  "language_info": {
   "codemirror_mode": {
    "name": "ipython",
    "version": 3
   },
   "file_extension": ".py",
   "mimetype": "text/x-python",
   "name": "python",
   "nbconvert_exporter": "python",
   "pygments_lexer": "ipython3",
   "version": "3.11.7"
  }
 },
 "nbformat": 4,
 "nbformat_minor": 5
}
